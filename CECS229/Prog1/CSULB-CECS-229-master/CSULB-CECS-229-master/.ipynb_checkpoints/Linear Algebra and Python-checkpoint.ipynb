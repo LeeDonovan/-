{
 "cells": [
  {
   "cell_type": "markdown",
   "metadata": {},
   "source": [
    "#  VECTOR AND MATRICES IN PYTHON NUMPY LIBRARY"
   ]
  },
  {
   "cell_type": "markdown",
   "metadata": {},
   "source": [
    "IMPORTING THE NUMPY LIBRARY"
   ]
  },
  {
   "cell_type": "code",
   "execution_count": 16,
   "metadata": {},
   "outputs": [],
   "source": [
    "import numpy as np"
   ]
  },
  {
   "cell_type": "markdown",
   "metadata": {},
   "source": [
    "CREATING VECTOR AND MATRIX USING Numpy array"
   ]
  },
  {
   "cell_type": "code",
   "execution_count": 17,
   "metadata": {},
   "outputs": [],
   "source": [
    "A = np.array([[1,2,3], [4,5,6],[7,8,9]]) # matrix"
   ]
  },
  {
   "cell_type": "code",
   "execution_count": 18,
   "metadata": {},
   "outputs": [
    {
     "name": "stdout",
     "output_type": "stream",
     "text": [
      "[[1 2 3]\n",
      " [4 5 6]\n",
      " [7 8 9]]\n",
      "<class 'numpy.ndarray'>\n",
      "9\n",
      "(3, 3)\n",
      "2\n"
     ]
    }
   ],
   "source": [
    "print(A)\n",
    "print(type(A)) # type of object\n",
    "print(A.size) # overal size (total number of elements)\n",
    "print(A.shape) # number rows vs columns\n",
    "print(A.ndim) # number of dimensions: 1 for vectors, 2 for matrices"
   ]
  },
  {
   "cell_type": "code",
   "execution_count": 19,
   "metadata": {},
   "outputs": [],
   "source": [
    "B = np.array([1,2,3,4]) #Vector"
   ]
  },
  {
   "cell_type": "code",
   "execution_count": 20,
   "metadata": {},
   "outputs": [
    {
     "name": "stdout",
     "output_type": "stream",
     "text": [
      "[[1 2 3]\n",
      " [4 5 6]\n",
      " [7 8 9]]\n"
     ]
    },
    {
     "data": {
      "text/plain": [
       "array([1, 2, 3, 4])"
      ]
     },
     "execution_count": 20,
     "metadata": {},
     "output_type": "execute_result"
    }
   ],
   "source": [
    "print(A)\n",
    "B"
   ]
  },
  {
   "cell_type": "code",
   "execution_count": 21,
   "metadata": {},
   "outputs": [
    {
     "data": {
      "text/plain": [
       "4"
      ]
     },
     "execution_count": 21,
     "metadata": {},
     "output_type": "execute_result"
    }
   ],
   "source": [
    "B.size"
   ]
  },
  {
   "cell_type": "code",
   "execution_count": 22,
   "metadata": {},
   "outputs": [
    {
     "data": {
      "text/plain": [
       "(4,)"
      ]
     },
     "execution_count": 22,
     "metadata": {},
     "output_type": "execute_result"
    }
   ],
   "source": [
    "B.shape"
   ]
  },
  {
   "cell_type": "code",
   "execution_count": 23,
   "metadata": {},
   "outputs": [
    {
     "data": {
      "text/plain": [
       "numpy.ndarray"
      ]
     },
     "execution_count": 23,
     "metadata": {},
     "output_type": "execute_result"
    }
   ],
   "source": [
    "type(B)"
   ]
  },
  {
   "cell_type": "markdown",
   "metadata": {},
   "source": [
    "CREATING MATRIX USING mat or matrix"
   ]
  },
  {
   "cell_type": "code",
   "execution_count": 24,
   "metadata": {},
   "outputs": [
    {
     "name": "stdout",
     "output_type": "stream",
     "text": [
      "[[1 2 3]\n",
      " [4 5 6]\n",
      " [7 8 9]]\n",
      "<class 'numpy.matrix'>\n",
      "9\n",
      "(3, 3)\n"
     ]
    }
   ],
   "source": [
    "N = np.matrix([[1,2,3], [4,5,6],[7,8,9]])\n",
    "print(N)\n",
    "print(type(N))\n",
    "print(N.size)\n",
    "print(N.shape)"
   ]
  },
  {
   "cell_type": "code",
   "execution_count": 25,
   "metadata": {},
   "outputs": [
    {
     "name": "stdout",
     "output_type": "stream",
     "text": [
      "[[1 2 3]\n",
      " [4 5 6]\n",
      " [7 8 9]]\n",
      "<class 'numpy.matrix'>\n",
      "9\n",
      "(3, 3)\n"
     ]
    }
   ],
   "source": [
    "M = np.mat([[1,2,3], [4,5,6],[7,8,9]])\n",
    "print(M)\n",
    "print(type(M))\n",
    "print(M.size)\n",
    "print(M.shape)"
   ]
  },
  {
   "cell_type": "markdown",
   "metadata": {},
   "source": [
    "Advantage of using mat function over array for matrix"
   ]
  },
  {
   "cell_type": "code",
   "execution_count": 26,
   "metadata": {},
   "outputs": [
    {
     "name": "stdout",
     "output_type": "stream",
     "text": [
      "1,2;3,4;5,6\n",
      "<class 'numpy.ndarray'>\n",
      "1\n",
      "()\n"
     ]
    }
   ],
   "source": [
    "M = np.array('1,2;3,4;5,6')\n",
    "print(M)\n",
    "print(type(M))\n",
    "print(M.size)\n",
    "print(M.shape)"
   ]
  },
  {
   "cell_type": "code",
   "execution_count": 34,
   "metadata": {},
   "outputs": [
    {
     "name": "stdout",
     "output_type": "stream",
     "text": [
      "[[1 2 1]\n",
      " [3 3 4]\n",
      " [5 6 9]]\n",
      "<class 'numpy.matrix'>\n",
      "9\n",
      "(3, 3)\n"
     ]
    }
   ],
   "source": [
    "M = np.mat('1,2;3,3;5,6')\n",
    "print(M)\n",
    "print(type(M))\n",
    "print(M.size)\n",
    "print(M.shape)"
   ]
  },
  {
   "cell_type": "code",
   "execution_count": 38,
   "metadata": {},
   "outputs": [
    {
     "name": "stdout",
     "output_type": "stream",
     "text": [
      "[[1 2 1 7 6]\n",
      " [3 3 4 7 5]\n",
      " [5 6 9 1 5]\n",
      " [3 3 4 7 5]]\n",
      "<class 'numpy.matrix'>\n",
      "20\n",
      "(4, 5)\n"
     ]
    }
   ],
   "source": [
    "M = np.mat('1,2,1,7,6;3,3,4,7,5;5,6,9,1,5;3,3,4,7,5')#new matrix 4x5 created \n",
    "print(M)\n",
    "print(type(M))\n",
    "print(M.size)\n",
    "print(M.shape)"
   ]
  },
  {
   "cell_type": "markdown",
   "metadata": {},
   "source": [
    "CREATING VECTOR AND MATRIX USING random function"
   ]
  },
  {
   "cell_type": "code",
   "execution_count": 43,
   "metadata": {},
   "outputs": [
    {
     "name": "stdout",
     "output_type": "stream",
     "text": [
      "[ 0.37199676 -1.28512353  0.47398173]\n",
      "<class 'numpy.ndarray'>\n",
      "3\n",
      "(3,)\n"
     ]
    }
   ],
   "source": [
    "V = np.random.randn(3)\n",
    "print(V)\n",
    "print(type(V))\n",
    "print(V.size)\n",
    "print(V.shape)"
   ]
  },
  {
   "cell_type": "code",
   "execution_count": 44,
   "metadata": {},
   "outputs": [
    {
     "name": "stdout",
     "output_type": "stream",
     "text": [
      "[[-0.5503804  -0.8413075  -0.30314674 -1.84348889]\n",
      " [-0.380816   -1.41656744  0.28113586  3.28704099]]\n",
      "<class 'numpy.ndarray'>\n",
      "8\n",
      "(2, 4)\n"
     ]
    }
   ],
   "source": [
    "M = np.random.randn(2,4)\n",
    "print(M)\n",
    "print(type(M))\n",
    "print(M.size)\n",
    "print(M.shape)"
   ]
  },
  {
   "cell_type": "markdown",
   "metadata": {},
   "source": [
    "CREATING VECTOR AND MATRIX USING arange"
   ]
  },
  {
   "cell_type": "code",
   "execution_count": 45,
   "metadata": {},
   "outputs": [
    {
     "name": "stdout",
     "output_type": "stream",
     "text": [
      "[0 1 2 3 4 5 6 7]\n",
      "<class 'numpy.ndarray'>\n",
      "8\n",
      "(8,)\n"
     ]
    }
   ],
   "source": [
    "V = np.arange(8)\n",
    "print(V)\n",
    "print(type(V))\n",
    "print(V.size)\n",
    "print(V.shape)"
   ]
  },
  {
   "cell_type": "code",
   "execution_count": 50,
   "metadata": {},
   "outputs": [
    {
     "name": "stdout",
     "output_type": "stream",
     "text": [
      "[[0 1 2 3]\n",
      " [4 5 6 7]]\n",
      "<class 'numpy.ndarray'>\n",
      "8\n",
      "(2, 4)\n"
     ]
    }
   ],
   "source": [
    "M = np.arange(8).reshape(2,4)\n",
    "print(M)\n",
    "print(type(M))\n",
    "print(M.size)\n",
    "print(M.shape)"
   ]
  },
  {
   "cell_type": "code",
   "execution_count": null,
   "metadata": {},
   "outputs": [],
   "source": [
    "#Create a numerical 4x5 matrix using two methods:\n",
    "    1 - using random func\n",
    "    2 - using arange function"
   ]
  },
  {
   "cell_type": "code",
   "execution_count": 59,
   "metadata": {},
   "outputs": [
    {
     "name": "stdout",
     "output_type": "stream",
     "text": [
      "Random\n",
      "[[ 0.14407443 -0.24077434 -0.43698973  0.26427245 -0.41704225]\n",
      " [ 0.4685093  -1.7676594   0.14999516 -0.86589457  1.9020718 ]\n",
      " [-0.49411794 -1.91614506  0.29653766 -0.56521312  0.16214981]\n",
      " [ 0.54140028 -0.14460136 -0.26866855  0.23825839  2.17583059]]\n",
      "Arranged\n",
      "[[ 0  1  2  3  4]\n",
      " [ 5  6  7  8  9]\n",
      " [10 11 12 13 14]\n",
      " [15 16 17 18 19]]\n"
     ]
    }
   ],
   "source": [
    "Y = np.random.randn(4,5)\n",
    "print(\"Random\")\n",
    "print(Y)\n",
    "O = np.arange(20).reshape(4,5)\n",
    "print(\"Arranged\")\n",
    "print(O)\n"
   ]
  },
  {
   "cell_type": "markdown",
   "metadata": {},
   "source": [
    "#ACCESS TO THE ELEMENTS OF THE ARRAY"
   ]
  },
  {
   "cell_type": "raw",
   "metadata": {},
   "source": [
    "Access to specific elements/rows/columns:"
   ]
  },
  {
   "cell_type": "code",
   "execution_count": 61,
   "metadata": {},
   "outputs": [
    {
     "name": "stdout",
     "output_type": "stream",
     "text": [
      "V =  [0 1 2 3 4 5 6 7]\n",
      "M =  [[0 1 2 3]\n",
      " [4 5 6 7]]\n"
     ]
    }
   ],
   "source": [
    "print(\"V = \",V)\n",
    "\n",
    "print(\"M = \", M)\n"
   ]
  },
  {
   "cell_type": "code",
   "execution_count": 64,
   "metadata": {},
   "outputs": [
    {
     "name": "stdout",
     "output_type": "stream",
     "text": [
      "1\n",
      "6\n"
     ]
    }
   ],
   "source": [
    "print(V[1])\n",
    "\n",
    "print(M[1,2])"
   ]
  },
  {
   "cell_type": "code",
   "execution_count": 76,
   "metadata": {},
   "outputs": [
    {
     "name": "stdout",
     "output_type": "stream",
     "text": [
      "[0]\n",
      "[0 1]\n"
     ]
    }
   ],
   "source": [
    "print(V[:1])\n",
    "print(V[:2])"
   ]
  },
  {
   "cell_type": "code",
   "execution_count": 77,
   "metadata": {},
   "outputs": [
    {
     "name": "stdout",
     "output_type": "stream",
     "text": [
      "[[ 0.14 -0.24 -0.44  0.26 -0.42]\n",
      " [ 0.47 -1.77  0.15 -0.87  1.9 ]\n",
      " [-0.49 -1.92  0.3  -0.57  0.16]\n",
      " [ 0.54 -0.14 -0.27  0.24  2.18]]\n"
     ]
    }
   ],
   "source": [
    "print(np.round(Y,2))"
   ]
  },
  {
   "cell_type": "code",
   "execution_count": 78,
   "metadata": {},
   "outputs": [
    {
     "name": "stdout",
     "output_type": "stream",
     "text": [
      "[[ 0.14]\n",
      " [ 0.47]\n",
      " [-0.49]\n",
      " [ 0.54]]\n"
     ]
    }
   ],
   "source": [
    "print(np.round(Y[:,:1],2))"
   ]
  },
  {
   "cell_type": "code",
   "execution_count": 79,
   "metadata": {},
   "outputs": [
    {
     "name": "stdout",
     "output_type": "stream",
     "text": [
      "[[ 0.14 -0.24 -0.44  0.26 -0.42]]\n"
     ]
    }
   ],
   "source": [
    "print(np.round(Y[:1,:],2))"
   ]
  },
  {
   "cell_type": "code",
   "execution_count": 80,
   "metadata": {},
   "outputs": [
    {
     "name": "stdout",
     "output_type": "stream",
     "text": [
      "[ 0.54 -0.14 -0.27  0.24  2.18]\n"
     ]
    }
   ],
   "source": [
    "print(np.round(Y[-1,:],2))"
   ]
  },
  {
   "cell_type": "raw",
   "metadata": {},
   "source": [
    "Show the array by rows/columns: "
   ]
  },
  {
   "cell_type": "code",
   "execution_count": 84,
   "metadata": {},
   "outputs": [
    {
     "name": "stdout",
     "output_type": "stream",
     "text": [
      "row1 [ 0.14407443 -0.24077434 -0.43698973  0.26427245 -0.41704225]\n",
      "row2 [ 0.4685093  -1.7676594   0.14999516 -0.86589457  1.9020718 ]\n",
      "row3 [-0.49411794 -1.91614506  0.29653766 -0.56521312  0.16214981]\n",
      "row4 [ 0.54140028 -0.14460136 -0.26866855  0.23825839  2.17583059]\n"
     ]
    }
   ],
   "source": [
    "i = 0\n",
    "for rows in Y:\n",
    "    i+=1\n",
    "    print('row'+str(i), rows)\n"
   ]
  },
  {
   "cell_type": "raw",
   "metadata": {},
   "source": [
    "Iterating Over Arrays: nditer"
   ]
  },
  {
   "cell_type": "code",
   "execution_count": null,
   "metadata": {},
   "outputs": [],
   "source": []
  },
  {
   "cell_type": "markdown",
   "metadata": {},
   "source": [
    "SPECIAL MATRICES"
   ]
  },
  {
   "cell_type": "raw",
   "metadata": {},
   "source": [
    "empty(shape[, dtype, order]):\t                Return a new array of given shape and type, without initializing entries.\n",
    "empty_like(prototype[, dtype, order, subok]):\tReturn a new array with the same shape and type as a given array.\n",
    "eye(N[, M, k, dtype, order]):\t                Return a 2-D array with ones on the diagonal and zeros elsewhere.\n",
    "identity(n[, dtype]):\t                        Return the identity array.\n",
    "ones(shape[, dtype, order]):\t                Return a new array of given shape and type, filled with ones.\n",
    "ones_like(a[, dtype, order, subok]):\t        Return an array of ones with the same shape and type as a given array.\n",
    "zeros(shape[, dtype, order]):\t                Return a new array of given shape and type, filled with zeros.\n",
    "zeros_like(a[, dtype, order, subok]):\t        Return an array of zeros with the same shape and type as a given array."
   ]
  },
  {
   "cell_type": "raw",
   "metadata": {},
   "source": [
    "Some examples:"
   ]
  },
  {
   "cell_type": "code",
   "execution_count": 85,
   "metadata": {},
   "outputs": [
    {
     "data": {
      "text/plain": [
       "array([[1., 0., 0., 0.],\n",
       "       [0., 1., 0., 0.],\n",
       "       [0., 0., 1., 0.],\n",
       "       [0., 0., 0., 1.]])"
      ]
     },
     "execution_count": 85,
     "metadata": {},
     "output_type": "execute_result"
    }
   ],
   "source": [
    "np.eye(4)"
   ]
  },
  {
   "cell_type": "code",
   "execution_count": 86,
   "metadata": {},
   "outputs": [
    {
     "data": {
      "text/plain": [
       "array([[1., 0., 0.],\n",
       "       [0., 1., 0.],\n",
       "       [0., 0., 1.]])"
      ]
     },
     "execution_count": 86,
     "metadata": {},
     "output_type": "execute_result"
    }
   ],
   "source": [
    "np.identity(3)"
   ]
  },
  {
   "cell_type": "code",
   "execution_count": 87,
   "metadata": {},
   "outputs": [
    {
     "data": {
      "text/plain": [
       "array([1., 1., 1., 1., 1.])"
      ]
     },
     "execution_count": 87,
     "metadata": {},
     "output_type": "execute_result"
    }
   ],
   "source": [
    "np.ones(5)"
   ]
  },
  {
   "cell_type": "code",
   "execution_count": 88,
   "metadata": {},
   "outputs": [
    {
     "data": {
      "text/plain": [
       "array([[1., 1.],\n",
       "       [1., 1.],\n",
       "       [1., 1.]])"
      ]
     },
     "execution_count": 88,
     "metadata": {},
     "output_type": "execute_result"
    }
   ],
   "source": [
    "np.ones((3,2))"
   ]
  },
  {
   "cell_type": "code",
   "execution_count": 89,
   "metadata": {},
   "outputs": [
    {
     "data": {
      "text/plain": [
       "array([0., 0., 0., 0., 0.])"
      ]
     },
     "execution_count": 89,
     "metadata": {},
     "output_type": "execute_result"
    }
   ],
   "source": [
    "np.zeros(5)"
   ]
  },
  {
   "cell_type": "code",
   "execution_count": 90,
   "metadata": {},
   "outputs": [
    {
     "data": {
      "text/plain": [
       "array([[0., 0.],\n",
       "       [0., 0.],\n",
       "       [0., 0.]])"
      ]
     },
     "execution_count": 90,
     "metadata": {},
     "output_type": "execute_result"
    }
   ],
   "source": [
    "np.zeros((3,2))"
   ]
  },
  {
   "cell_type": "markdown",
   "metadata": {},
   "source": [
    "RESHAPING MATRICES"
   ]
  },
  {
   "cell_type": "code",
   "execution_count": null,
   "metadata": {},
   "outputs": [],
   "source": [
    "print(M)\n",
    "print(M.shape)"
   ]
  },
  {
   "cell_type": "code",
   "execution_count": null,
   "metadata": {},
   "outputs": [],
   "source": [
    "M2 = np.reshape(M, (4,2))\n",
    "print(M2)\n",
    "print(M2.shape)"
   ]
  },
  {
   "cell_type": "code",
   "execution_count": null,
   "metadata": {},
   "outputs": [],
   "source": [
    "print(V)\n",
    "print(V.shape)"
   ]
  },
  {
   "cell_type": "code",
   "execution_count": null,
   "metadata": {},
   "outputs": [],
   "source": [
    "W = np.reshape(V,(2,1))\n",
    "print(W)\n",
    "print(W.shape)"
   ]
  },
  {
   "cell_type": "markdown",
   "metadata": {},
   "source": [
    "FLATTENING A MATRIX"
   ]
  },
  {
   "cell_type": "code",
   "execution_count": null,
   "metadata": {},
   "outputs": [],
   "source": [
    "A = np.random.randn(2,4)\n",
    "B = A.flatten()\n",
    "\n",
    "print('A = ', np.round(A,2))\n",
    "print('Flatten of A = ', np.round(B,2))"
   ]
  },
  {
   "cell_type": "markdown",
   "metadata": {},
   "source": [
    "ADDING/SUBTRACTING/MULTIPLYING SCALAR TO MATRIX"
   ]
  },
  {
   "cell_type": "code",
   "execution_count": null,
   "metadata": {},
   "outputs": [],
   "source": [
    "A = np.random.randn(4,4)\n",
    "n = 10\n",
    "B = A + n\n",
    "print('A = ', np.round(A,2))\n",
    "print('A + ',n,' = ', np.round(B,2))\n"
   ]
  },
  {
   "cell_type": "code",
   "execution_count": null,
   "metadata": {},
   "outputs": [],
   "source": [
    "C = A - n\n",
    "print('A = ', np.round(A,2))\n",
    "print('A - ',n,' = ', np.round(C,2))"
   ]
  },
  {
   "cell_type": "code",
   "execution_count": null,
   "metadata": {},
   "outputs": [],
   "source": [
    "D = A * n\n",
    "print('A = ', np.round(A,2))\n",
    "print('A * ',n,' = ', np.round(D,1))"
   ]
  },
  {
   "cell_type": "code",
   "execution_count": null,
   "metadata": {},
   "outputs": [],
   "source": [
    "# ADDING A SCALAR TO SPECIFIC ROW/COLUMN\n",
    "\n",
    "A[1,:] = A[1,:] + 3 # add to the second row only\n",
    "print('A = ', np.round(A,2))\n",
    "\n",
    "A[:,1] = A[:,1] + 3 # add to the second column only\n",
    "print('A = ', np.round(A,2))"
   ]
  },
  {
   "cell_type": "markdown",
   "metadata": {},
   "source": [
    "ADD/SUBTRACT MATRICES"
   ]
  },
  {
   "cell_type": "code",
   "execution_count": null,
   "metadata": {},
   "outputs": [],
   "source": [
    "A = np.random.randn(3,4)\n",
    "B = np.random.randn(3,4)\n",
    "C = A + B\n",
    "D = A - B\n",
    "E = B - A\n",
    "\n",
    "print('A = ', np.round(A,2))\n",
    "print('B = ', np.round(B,2))\n",
    "print('A + B = ', np.round(C,2))\n",
    "print('A - B = ', np.round(D,2))\n",
    "print('B - A = ', np.round(E,2))"
   ]
  },
  {
   "cell_type": "markdown",
   "metadata": {},
   "source": [
    "MULTIPLYING VECTORS"
   ]
  },
  {
   "cell_type": "raw",
   "metadata": {},
   "source": [
    "INNER PRODUCT OF TWO VECTORS: inner & dot"
   ]
  },
  {
   "cell_type": "code",
   "execution_count": null,
   "metadata": {},
   "outputs": [],
   "source": [
    "a = np.arange(4)\n",
    "b = np.arange(4)+3\n",
    "c = np.inner(a,b)\n",
    "d = np.dot(a,b)\n",
    "f = np.sum(a * b)\n",
    "\n",
    "print('a = ', a)\n",
    "print('b = ', b)\n",
    "print('a.b = ', c)\n",
    "print('a.b = ', d)\n",
    "print('a.b = ', f)"
   ]
  },
  {
   "cell_type": "raw",
   "metadata": {},
   "source": [
    "OUTER PRODUCT OF TWO VECTORS: "
   ]
  },
  {
   "cell_type": "raw",
   "metadata": {},
   "source": [
    "Given two vectors, a = [a0, a1, ..., aM] and b = [b0, b1, ..., bN], the outer product is:\n",
    "[[a0*b0  a0*b1 ... a0*bN ]\n",
    " [a1*b0    .\n",
    " [ ...          .\n",
    " [aM*b0            aM*bN ]]"
   ]
  },
  {
   "cell_type": "code",
   "execution_count": null,
   "metadata": {},
   "outputs": [],
   "source": [
    "np.outer(a,b)"
   ]
  },
  {
   "cell_type": "markdown",
   "metadata": {},
   "source": [
    "MULTIPLYING A MATRIX BY A SCALAR"
   ]
  },
  {
   "cell_type": "code",
   "execution_count": null,
   "metadata": {},
   "outputs": [],
   "source": [
    "A = np.random.randn(3,3)\n",
    "n = 10\n",
    "B = A*n\n",
    "print('A = ', np.round(A,2))\n",
    "print('B = ', np.round(B,1))"
   ]
  },
  {
   "cell_type": "markdown",
   "metadata": {},
   "source": [
    "MULTIPLYING TWO MATRICES"
   ]
  },
  {
   "cell_type": "raw",
   "metadata": {},
   "source": [
    "element-wise multiplication"
   ]
  },
  {
   "cell_type": "code",
   "execution_count": null,
   "metadata": {},
   "outputs": [],
   "source": [
    "A = np.random.randn(5,3)\n",
    "B = np.random.randn(5,3)\n",
    "\n",
    "C = A * B\n",
    "\n",
    "print('A = ', np.round(A,2))\n",
    "print('B = ', np.round(B,2))\n",
    "print('A * B = ', np.round(C,2))\n",
    "\n",
    "print('dimension A = ', A.shape)\n",
    "print('dimension B = ', B.shape)\n",
    "print('dimension A * B = ', C.shape)"
   ]
  },
  {
   "cell_type": "raw",
   "metadata": {},
   "source": [
    "dot product"
   ]
  },
  {
   "cell_type": "code",
   "execution_count": null,
   "metadata": {},
   "outputs": [],
   "source": [
    "A = np.random.randn(3,2)\n",
    "B = np.random.randn(2,4)\n",
    "\n",
    "# 3 METHODS:\n",
    "\n",
    "# METHOD 1:\n",
    "C = A.dot(B)\n",
    "\n",
    "# METHOD 2:\n",
    "D = np.dot(A,B)\n",
    "\n",
    "# METHOD 3:\n",
    "E = A @ B\n",
    "\n",
    "print('A = ', np.round(A,2))\n",
    "print('B = ', np.round(B,2))\n",
    "print('Method 1: A . B = ', np.round(C,2))\n",
    "print('Method 2: A . B = ', np.round(D,2))\n",
    "print('Method 3: A . B = ', np.round(E,2))\n",
    "\n",
    "print('dimension A = ', A.shape)\n",
    "print('dimension B = ', B.shape)\n",
    "print('dimension A . B = ', C.shape)"
   ]
  },
  {
   "cell_type": "markdown",
   "metadata": {},
   "source": [
    "DIAGONAL OF A MATRIX: diagonal"
   ]
  },
  {
   "cell_type": "code",
   "execution_count": null,
   "metadata": {},
   "outputs": [],
   "source": [
    "A_diag = A.diagonal()\n",
    "\n",
    "print('A = ', A)\n",
    "print('diagonal  of A is:', A_diag)"
   ]
  },
  {
   "cell_type": "markdown",
   "metadata": {},
   "source": [
    "TRACE OF A MATRIX: trace"
   ]
  },
  {
   "cell_type": "code",
   "execution_count": null,
   "metadata": {},
   "outputs": [],
   "source": [
    "A_trace = A.trace()\n",
    "\n",
    "print('A = ', A)\n",
    "print('Trace of A is:', A_trace)"
   ]
  },
  {
   "cell_type": "markdown",
   "metadata": {},
   "source": [
    "TRANSPOSING A MATRIX"
   ]
  },
  {
   "cell_type": "code",
   "execution_count": null,
   "metadata": {},
   "outputs": [],
   "source": [
    "A = np.random.randn(3,4)\n",
    "A_tran = A.T\n",
    "\n",
    "print('A = ', np.round(A,2))\n",
    "print('Transpose of A = ', np.round(A_tran,2))\n",
    "\n",
    "print('dimension A = ', A.shape)\n",
    "print('dimension Transpose(A) = ', A_tran.shape)"
   ]
  },
  {
   "cell_type": "markdown",
   "metadata": {},
   "source": [
    "# np.linalg "
   ]
  },
  {
   "cell_type": "raw",
   "metadata": {},
   "source": [
    "ADDITIONAL OPERATIONS INCLUDING:\n",
    "- INVERTING\n",
    "- DETERMINANT\n",
    "- RANK \n",
    "- EIGENVALUES AND EIGENVECTORS\n",
    "- NORM\n",
    "\n"
   ]
  },
  {
   "cell_type": "code",
   "execution_count": null,
   "metadata": {},
   "outputs": [],
   "source": [
    "from numpy import linalg as LA"
   ]
  },
  {
   "cell_type": "markdown",
   "metadata": {},
   "source": [
    "INVERTING A MATRIX"
   ]
  },
  {
   "cell_type": "code",
   "execution_count": null,
   "metadata": {},
   "outputs": [],
   "source": [
    "A = np.random.randn(4,4)\n",
    "A = np.round(A,2)"
   ]
  },
  {
   "cell_type": "code",
   "execution_count": null,
   "metadata": {},
   "outputs": [],
   "source": [
    "A_inv = LA.inv(A)\n",
    "A_inv = np.round(A_inv, 2)\n",
    "\n",
    "print('A = ', A)\n",
    "print('Inverse of A = ', A_inv)\n",
    "\n",
    "print('dimension A = ', A.shape)\n",
    "print('dimension Inverse(A) = ', A_inv.shape)"
   ]
  },
  {
   "cell_type": "markdown",
   "metadata": {},
   "source": [
    "DETERMINANT OF MATRIX: det"
   ]
  },
  {
   "cell_type": "code",
   "execution_count": null,
   "metadata": {},
   "outputs": [],
   "source": [
    "print('A = ', A)\n",
    "print('Shape of Matrix A is:', A.shape)\n",
    "print('Determinant of Matrix A is:', AL.det(A))"
   ]
  },
  {
   "cell_type": "markdown",
   "metadata": {},
   "source": [
    "RANK OF A MATRIX: matrix_rank"
   ]
  },
  {
   "cell_type": "code",
   "execution_count": null,
   "metadata": {},
   "outputs": [],
   "source": [
    "print('A = ', A)\n",
    "print('Shape of Matrix A is:', A.shape)\n",
    "print('Rank of Matrix A is:', AL.matrix_rank(A))"
   ]
  },
  {
   "cell_type": "markdown",
   "metadata": {},
   "source": [
    "EIGEN VALUES AND EIGEN VECTORS OF A MATRIX: eig"
   ]
  },
  {
   "cell_type": "code",
   "execution_count": null,
   "metadata": {},
   "outputs": [],
   "source": [
    "eigenvalues, eigenvectors = LA.eig(A)\n",
    "\n",
    "print('A = ', A)\n",
    "print('Eigen values of A:', eigenvalues)\n",
    "print('Eigen vctors of A:', eigenvectors)"
   ]
  },
  {
   "cell_type": "markdown",
   "metadata": {},
   "source": [
    "NORM OF A VECTOR/MATRIX: norm"
   ]
  },
  {
   "cell_type": "code",
   "execution_count": null,
   "metadata": {},
   "outputs": [],
   "source": [
    "# Vector\n",
    "a = np.arange(6)\n",
    "n = LA.norm(a)\n",
    "\n",
    "print('a = ', a)\n",
    "print('norm(a) = ', n)\n"
   ]
  },
  {
   "cell_type": "code",
   "execution_count": null,
   "metadata": {},
   "outputs": [],
   "source": [
    "# Matrix\n",
    "A = np.arange(16).reshape(4,4)\n",
    "N = LA.norm(A)\n",
    "\n",
    "print('A = ', A)\n",
    "print('norm(A) = ', N)\n"
   ]
  },
  {
   "cell_type": "markdown",
   "metadata": {},
   "source": [
    "SOLVING LINEAR MATRIX EQUATION OR SYSTEM OF SCALAR EQUATIONS"
   ]
  },
  {
   "cell_type": "markdown",
   "metadata": {},
   "source": [
    "Exact solution: solve"
   ]
  },
  {
   "cell_type": "raw",
   "metadata": {},
   "source": [
    "If the general form of the system of equations is as :\n",
    "A.x = b\n",
    "Given matrix A and vector b, the goal is to computes the exact solution x"
   ]
  },
  {
   "cell_type": "raw",
   "metadata": {},
   "source": [
    "Example: \n",
    "4x1 + 2x2 = 8\n",
    "-3x1 + 5x2 = 11"
   ]
  },
  {
   "cell_type": "code",
   "execution_count": null,
   "metadata": {},
   "outputs": [],
   "source": [
    "A = np.array([[4,-3],[2,5]])\n",
    "b = np.array([8,11])\n",
    "x = AL.solve(A, b)\n",
    "\n",
    "for i in range(len(x)):\n",
    "    print('x'+str(i+1)+' = ',x[i])"
   ]
  },
  {
   "cell_type": "raw",
   "metadata": {},
   "source": [
    "To check that the solution is correct: True for correct, False for incorrect"
   ]
  },
  {
   "cell_type": "code",
   "execution_count": null,
   "metadata": {},
   "outputs": [],
   "source": [
    "if np.allclose(np.dot(A,x),b):\n",
    "    print('The solution is correct!')\n",
    "else:\n",
    "        print('The solution is NOT correct!')"
   ]
  },
  {
   "cell_type": "markdown",
   "metadata": {},
   "source": [
    "The Least Square solution: lstsq"
   ]
  },
  {
   "cell_type": "raw",
   "metadata": {},
   "source": [
    "If the general form of the system of equations is as :\n",
    "A.x = b\n",
    "Solves the equation by computing a vector x that minimizes the Euclidean 2-norm | b - A x |"
   ]
  },
  {
   "cell_type": "code",
   "execution_count": null,
   "metadata": {},
   "outputs": [],
   "source": [
    "A = np.array([[4,-3],[2,5]])\n",
    "b = np.array([8,11])\n",
    "x, res, rnk, s = AL.lstsq(A, b)\n",
    "\n",
    "print(x)"
   ]
  },
  {
   "cell_type": "code",
   "execution_count": null,
   "metadata": {},
   "outputs": [],
   "source": []
  },
  {
   "cell_type": "markdown",
   "metadata": {},
   "source": [
    "Add: argmin (Euclidian distance)"
   ]
  },
  {
   "cell_type": "code",
   "execution_count": null,
   "metadata": {},
   "outputs": [],
   "source": []
  },
  {
   "cell_type": "raw",
   "metadata": {},
   "source": []
  },
  {
   "cell_type": "markdown",
   "metadata": {},
   "source": [
    "SINGULAR VALUE DECOMPOSITION: svd"
   ]
  },
  {
   "cell_type": "raw",
   "metadata": {},
   "source": [
    "Singular Value Decomposition (SVD) can be thought of as an extension of the eigenvalue problem to matrices that are not square. "
   ]
  },
  {
   "cell_type": "raw",
   "metadata": {},
   "source": [
    "Returns:\n",
    "u :\n",
    "Unitary array(s). The first a.ndim - 2 dimensions have the same size as those of the input a. The size of the last two dimensions depends on the value of full_matrices. Only returned when compute_uv is True.\n",
    "\n",
    "s : \n",
    "Vector(s) with the singular values, within each vector sorted in descending order. The first a.ndim - 2 dimensions have the same size as those of the input a.\n",
    "\n",
    "vh : \n",
    "Unitary array(s). The first a.ndim - 2 dimensions have the same size as those of the input a. The size of the last two dimensions depends on the value of full_matrices. Only returned when compute_uv is True."
   ]
  },
  {
   "cell_type": "code",
   "execution_count": null,
   "metadata": {},
   "outputs": [],
   "source": [
    "A = np.array([[1,2,3],[4,5,6]])\n",
    "u,s,Vh = LA.svd(A)\n"
   ]
  },
  {
   "cell_type": "code",
   "execution_count": null,
   "metadata": {},
   "outputs": [],
   "source": []
  },
  {
   "cell_type": "code",
   "execution_count": null,
   "metadata": {},
   "outputs": [],
   "source": []
  },
  {
   "cell_type": "code",
   "execution_count": null,
   "metadata": {},
   "outputs": [],
   "source": []
  }
 ],
 "metadata": {
  "kernelspec": {
   "display_name": "Python 3",
   "language": "python",
   "name": "python3"
  },
  "language_info": {
   "codemirror_mode": {
    "name": "ipython",
    "version": 3
   },
   "file_extension": ".py",
   "mimetype": "text/x-python",
   "name": "python",
   "nbconvert_exporter": "python",
   "pygments_lexer": "ipython3",
   "version": "3.6.5"
  }
 },
 "nbformat": 4,
 "nbformat_minor": 2
}
